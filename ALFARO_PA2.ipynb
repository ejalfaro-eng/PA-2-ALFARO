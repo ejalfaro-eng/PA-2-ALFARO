{
 "cells": [
  {
   "cell_type": "markdown",
   "id": "a1e754ff-57f8-4f48-8743-20ae297ee5fc",
   "metadata": {},
   "source": [
    "NUMBER 1"
   ]
  },
  {
   "cell_type": "code",
   "execution_count": 8,
   "id": "bf1e2383-6726-4b65-a931-488decfebe01",
   "metadata": {},
   "outputs": [
    {
     "data": {
      "text/plain": [
       "array([[0.56259915, 0.84999621, 0.71520988, 0.67816061, 0.78677393],\n",
       "       [0.16209153, 0.25232463, 0.52895514, 0.50041891, 0.09568559],\n",
       "       [0.362208  , 0.43990061, 0.83252127, 0.28077459, 0.47381109],\n",
       "       [0.37296269, 0.15483899, 0.0318773 , 0.59180115, 0.75846337],\n",
       "       [0.6095181 , 0.82002915, 0.26896116, 0.94309722, 0.14858347]])"
      ]
     },
     "execution_count": 8,
     "metadata": {},
     "output_type": "execute_result"
    }
   ],
   "source": [
    "import numpy as np\n",
    "\n",
    "x = np.random.random ((5,5))\n",
    "x"
   ]
  },
  {
   "cell_type": "code",
   "execution_count": 9,
   "id": "78c9b6bc-87ee-4c99-abd5-c601cd8bbade",
   "metadata": {},
   "outputs": [
    {
     "data": {
      "text/plain": [
       "np.float64(0.4888625490492419)"
      ]
     },
     "execution_count": 9,
     "metadata": {},
     "output_type": "execute_result"
    }
   ],
   "source": [
    "#TO GET THE MEAN\n",
    "\n",
    "m = x.mean ()\n",
    "m"
   ]
  },
  {
   "cell_type": "code",
   "execution_count": 10,
   "id": "ea7bfe8c-08f5-4b41-ae88-48acc9554d6a",
   "metadata": {},
   "outputs": [
    {
     "data": {
      "text/plain": [
       "np.float64(0.26249754566879363)"
      ]
     },
     "execution_count": 10,
     "metadata": {},
     "output_type": "execute_result"
    }
   ],
   "source": [
    "#TO GET STANDARD DEVIATION\n",
    "s = x.std ()\n",
    "s"
   ]
  },
  {
   "cell_type": "code",
   "execution_count": 11,
   "id": "ffa9e0f2-425f-4e85-b1aa-13f147b6bad4",
   "metadata": {},
   "outputs": [],
   "source": [
    "#Nromalization\n",
    "z = x-m/s\n",
    "z\n",
    "\n",
    "np.save('X_normalized.npy',z)"
   ]
  },
  {
   "cell_type": "markdown",
   "id": "08b88591-4731-4b96-a340-39ceb871ed4e",
   "metadata": {},
   "source": [
    "NUMBER 2"
   ]
  },
  {
   "cell_type": "code",
   "execution_count": 13,
   "id": "aadd71ed-d05c-49e8-b620-47c9f87c6989",
   "metadata": {},
   "outputs": [
    {
     "data": {
      "text/plain": [
       "array([[    1,     4,     9,    16,    25,    36,    49,    64,    81,\n",
       "          100],\n",
       "       [  121,   144,   169,   196,   225,   256,   289,   324,   361,\n",
       "          400],\n",
       "       [  441,   484,   529,   576,   625,   676,   729,   784,   841,\n",
       "          900],\n",
       "       [  961,  1024,  1089,  1156,  1225,  1296,  1369,  1444,  1521,\n",
       "         1600],\n",
       "       [ 1681,  1764,  1849,  1936,  2025,  2116,  2209,  2304,  2401,\n",
       "         2500],\n",
       "       [ 2601,  2704,  2809,  2916,  3025,  3136,  3249,  3364,  3481,\n",
       "         3600],\n",
       "       [ 3721,  3844,  3969,  4096,  4225,  4356,  4489,  4624,  4761,\n",
       "         4900],\n",
       "       [ 5041,  5184,  5329,  5476,  5625,  5776,  5929,  6084,  6241,\n",
       "         6400],\n",
       "       [ 6561,  6724,  6889,  7056,  7225,  7396,  7569,  7744,  7921,\n",
       "         8100],\n",
       "       [ 8281,  8464,  8649,  8836,  9025,  9216,  9409,  9604,  9801,\n",
       "        10000]])"
      ]
     },
     "execution_count": 13,
     "metadata": {},
     "output_type": "execute_result"
    }
   ],
   "source": [
    "a = np.arange (1, 101)\n",
    "a.resize (10,10)\n",
    "ndarray = a**2\n",
    "ndarray"
   ]
  },
  {
   "cell_type": "code",
   "execution_count": 22,
   "id": "0de8f583-08e5-47a5-8db7-15d03aac8c3a",
   "metadata": {},
   "outputs": [
    {
     "data": {
      "text/plain": [
       "array([   9,   36,   81,  144,  225,  324,  441,  576,  729,  900, 1089,\n",
       "       1296, 1521, 1764, 2025, 2304, 2601, 2916, 3249, 3600, 3969, 4356,\n",
       "       4761, 5184, 5625, 6084, 6561, 7056, 7569, 8100, 8649, 9216, 9801])"
      ]
     },
     "execution_count": 22,
     "metadata": {},
     "output_type": "execute_result"
    }
   ],
   "source": [
    "d = ndarray [ ndarray % 3 == 0 ]\n",
    "d\n",
    "\n",
    "np.save('"
   ]
  },
  {
   "cell_type": "code",
   "execution_count": null,
   "id": "c1718d8f-5013-461b-b7ff-47b69b6538a8",
   "metadata": {},
   "outputs": [],
   "source": []
  }
 ],
 "metadata": {
  "kernelspec": {
   "display_name": "Python 3 (ipykernel)",
   "language": "python",
   "name": "python3"
  },
  "language_info": {
   "codemirror_mode": {
    "name": "ipython",
    "version": 3
   },
   "file_extension": ".py",
   "mimetype": "text/x-python",
   "name": "python",
   "nbconvert_exporter": "python",
   "pygments_lexer": "ipython3",
   "version": "3.13.5"
  }
 },
 "nbformat": 4,
 "nbformat_minor": 5
}
